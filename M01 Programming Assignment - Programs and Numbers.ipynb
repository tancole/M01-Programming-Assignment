{
 "cells": [
  {
   "cell_type": "code",
   "execution_count": 12,
   "id": "a8396a80",
   "metadata": {},
   "outputs": [
    {
     "data": {
      "text/plain": [
       "3600"
      ]
     },
     "execution_count": 12,
     "metadata": {},
     "output_type": "execute_result"
    }
   ],
   "source": [
    "1 * 60 * 60"
   ]
  },
  {
   "cell_type": "code",
   "execution_count": 13,
   "id": "498f518d",
   "metadata": {},
   "outputs": [],
   "source": [
    "seconds_per_day = 3600"
   ]
  },
  {
   "cell_type": "code",
   "execution_count": 14,
   "id": "333bd354",
   "metadata": {},
   "outputs": [
    {
     "data": {
      "text/plain": [
       "86400"
      ]
     },
     "execution_count": 14,
     "metadata": {},
     "output_type": "execute_result"
    }
   ],
   "source": [
    "seconds_per_day * 24"
   ]
  },
  {
   "cell_type": "code",
   "execution_count": 15,
   "id": "8d8dc43a",
   "metadata": {},
   "outputs": [],
   "source": [
    "seconds_per_day = 3600\n",
    "seconds_per_hour = seconds_per_day * 24"
   ]
  },
  {
   "cell_type": "code",
   "execution_count": 16,
   "id": "ec5af32c",
   "metadata": {},
   "outputs": [
    {
     "data": {
      "text/plain": [
       "0.041666666666666664"
      ]
     },
     "execution_count": 16,
     "metadata": {},
     "output_type": "execute_result"
    }
   ],
   "source": [
    "seconds_per_day / seconds_per_hour"
   ]
  },
  {
   "cell_type": "code",
   "execution_count": 17,
   "id": "0763c049",
   "metadata": {},
   "outputs": [
    {
     "data": {
      "text/plain": [
       "0"
      ]
     },
     "execution_count": 17,
     "metadata": {},
     "output_type": "execute_result"
    }
   ],
   "source": [
    "seconds_per_day // seconds_per_hour"
   ]
  },
  {
   "cell_type": "code",
   "execution_count": null,
   "id": "1b79df98",
   "metadata": {},
   "outputs": [],
   "source": [
    "# The interger division answer and the float point answer agree with each other because seconds_per_day goes into\n",
    "# seconds_per_hour exactly 0 times. "
   ]
  }
 ],
 "metadata": {
  "kernelspec": {
   "display_name": "Python 3 (ipykernel)",
   "language": "python",
   "name": "python3"
  },
  "language_info": {
   "codemirror_mode": {
    "name": "ipython",
    "version": 3
   },
   "file_extension": ".py",
   "mimetype": "text/x-python",
   "name": "python",
   "nbconvert_exporter": "python",
   "pygments_lexer": "ipython3",
   "version": "3.10.9"
  }
 },
 "nbformat": 4,
 "nbformat_minor": 5
}
